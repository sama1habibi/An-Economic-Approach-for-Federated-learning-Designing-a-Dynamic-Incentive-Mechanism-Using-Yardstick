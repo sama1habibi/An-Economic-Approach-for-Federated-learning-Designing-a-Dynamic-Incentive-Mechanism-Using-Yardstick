{
 "cells": [
  {
   "cell_type": "code",
   "execution_count": 154,
   "id": "887019aa",
   "metadata": {},
   "outputs": [],
   "source": [
    "import sympy as sym\n",
    "import numpy as np\n",
    "sym.init_printing()\n",
    "from scipy.integrate import quad\n",
    "from sympy import oo\n",
    "import math as m\n",
    "import matplotlib.pyplot as plt\n",
    "import pandas as pd\n",
    "import random\n",
    "a, B, C, Q, Qt, L, K, M, T,  R, t, e, q, R, N = sym.symbols ('a B C Q  Qt L K M T R t e q  R N')"
   ]
  },
  {
   "cell_type": "code",
   "execution_count": 155,
   "id": "637ef43a",
   "metadata": {},
   "outputs": [],
   "source": [
    "#B=0.724174115722499       represents the beta in equation 6 that has a rando value between (0,1)\n",
    "#e = 0.798062942399659     is the efficiency level of worker it has a random value for all symmetric workers of each wo\n",
    "#Q                         task of master node at each period\n",
    "#q=Q-(a*R)                  allocated task to each waoker at each period\n",
    "#R                          reward given to each of symmetric workers \n",
    "#C=B*sym.exp((-e)/T)        cost function\n",
    "#K= Q/(3*C)\n",
    "#a= 0.545252832344278*K                       constant value in 4th line \n",
    "#T=17.0733397114433*𝑞+3.92784145441362        total computation and communication  time"
   ]
  },
  {
   "cell_type": "code",
   "execution_count": 156,
   "id": "fb4d8189",
   "metadata": {},
   "outputs": [
    {
     "data": {
      "text/html": [
       "<div>\n",
       "<style scoped>\n",
       "    .dataframe tbody tr th:only-of-type {\n",
       "        vertical-align: middle;\n",
       "    }\n",
       "\n",
       "    .dataframe tbody tr th {\n",
       "        vertical-align: top;\n",
       "    }\n",
       "\n",
       "    .dataframe thead th {\n",
       "        text-align: right;\n",
       "    }\n",
       "</style>\n",
       "<table border=\"1\" class=\"dataframe\">\n",
       "  <thead>\n",
       "    <tr style=\"text-align: right;\">\n",
       "      <th></th>\n",
       "      <th>T</th>\n",
       "      <th>Q</th>\n",
       "    </tr>\n",
       "  </thead>\n",
       "  <tbody>\n",
       "    <tr>\n",
       "      <th>1</th>\n",
       "      <td>5000</td>\n",
       "      <td>5000</td>\n",
       "    </tr>\n",
       "    <tr>\n",
       "      <th>2</th>\n",
       "      <td>6000</td>\n",
       "      <td>6000</td>\n",
       "    </tr>\n",
       "    <tr>\n",
       "      <th>3</th>\n",
       "      <td>7000</td>\n",
       "      <td>7000</td>\n",
       "    </tr>\n",
       "    <tr>\n",
       "      <th>4</th>\n",
       "      <td>8000</td>\n",
       "      <td>8000</td>\n",
       "    </tr>\n",
       "    <tr>\n",
       "      <th>5</th>\n",
       "      <td>9000</td>\n",
       "      <td>9000</td>\n",
       "    </tr>\n",
       "    <tr>\n",
       "      <th>6</th>\n",
       "      <td>10000</td>\n",
       "      <td>10000</td>\n",
       "    </tr>\n",
       "    <tr>\n",
       "      <th>7</th>\n",
       "      <td>11000</td>\n",
       "      <td>11000</td>\n",
       "    </tr>\n",
       "    <tr>\n",
       "      <th>8</th>\n",
       "      <td>12000</td>\n",
       "      <td>12000</td>\n",
       "    </tr>\n",
       "    <tr>\n",
       "      <th>9</th>\n",
       "      <td>13000</td>\n",
       "      <td>13000</td>\n",
       "    </tr>\n",
       "    <tr>\n",
       "      <th>10</th>\n",
       "      <td>14000</td>\n",
       "      <td>14000</td>\n",
       "    </tr>\n",
       "  </tbody>\n",
       "</table>\n",
       "</div>"
      ],
      "text/plain": [
       "        T      Q\n",
       "1    5000   5000\n",
       "2    6000   6000\n",
       "3    7000   7000\n",
       "4    8000   8000\n",
       "5    9000   9000\n",
       "6   10000  10000\n",
       "7   11000  11000\n",
       "8   12000  12000\n",
       "9   13000  13000\n",
       "10  14000  14000"
      ]
     },
     "execution_count": 156,
     "metadata": {},
     "output_type": "execute_result"
    }
   ],
   "source": [
    "dataset = pd.DataFrame(columns = ['T','Q'])\n",
    "count = 5000\n",
    "row = 1\n",
    "dataset.loc[row] = count\n",
    "for i in range(5000,14000,1000):       \n",
    "    row = row + 1\n",
    "    count = count + 1000\n",
    "    dataset.loc[row] = count\n",
    "dataset\n"
   ]
  },
  {
   "cell_type": "code",
   "execution_count": 157,
   "id": "55a9e064",
   "metadata": {},
   "outputs": [
    {
     "data": {
      "image/png": "[encoded data removed]",
      "text/latex": [
       "$\\displaystyle 69855.1483399367$"
      ],
      "text/plain": [
       "69855.1483399367"
      ]
     },
     "execution_count": 157,
     "metadata": {},
     "output_type": "execute_result"
    }
   ],
   "source": [
    "#dynamic \n",
    "Qt=50000\n",
    "N=10\n",
    "Q= Qt/N\n",
    "B=0.724174115722499 \n",
    "e = 0.798062942399659\n",
    "C=B*sym.exp((-e)/T)\n",
    "R=C\n",
    "K= Q/(3*C)\n",
    "a= 0.545252832344278*K\n",
    "q=Q-(a*R)\n",
    "T=17.0733397114433*𝑞+3.92784145441362\n",
    "T1=T\n",
    "dataset.iloc[0,0] = T1\n",
    "T1"
   ]
  },
  {
   "cell_type": "code",
   "execution_count": 158,
   "id": "ca5eb053",
   "metadata": {},
   "outputs": [
    {
     "data": {
      "image/png": "[encoded data removed]",
      "text/latex": [
       "$\\displaystyle 83825.3924396332$"
      ],
      "text/plain": [
       "83825.3924396332"
      ]
     },
     "execution_count": 158,
     "metadata": {},
     "output_type": "execute_result"
    }
   ],
   "source": [
    "Q=6000\n",
    "B=0.724174115722499 \n",
    "e = 0.798062942399659\n",
    "C=B*sym.exp((-e)/T)\n",
    "R=C\n",
    "K= Q/(3*C)\n",
    "a= 0.545252832344278*K\n",
    "q=Q-(a*R)\n",
    "T=17.0733397114433*𝑞+3.92784145441362\n",
    "T2=T\n",
    "dataset.iloc[1,0] = T2\n",
    "T2"
   ]
  },
  {
   "cell_type": "code",
   "execution_count": 159,
   "id": "895af65a",
   "metadata": {},
   "outputs": [
    {
     "data": {
      "image/png": "[encoded data removed]",
      "text/latex": [
       "$\\displaystyle 97795.6365393297$"
      ],
      "text/plain": [
       "97795.6365393297"
      ]
     },
     "execution_count": 159,
     "metadata": {},
     "output_type": "execute_result"
    }
   ],
   "source": [
    "Q=7000\n",
    "B=0.724174115722499 \n",
    "e = 0.798062942399659\n",
    "C=B*sym.exp((-e)/T)\n",
    "R=C\n",
    "K= Q/(3*C)\n",
    "a= 0.545252832344278*K\n",
    "q=Q-(a*R)\n",
    "T=17.0733397114433*𝑞+3.92784145441362\n",
    "T3=T\n",
    "dataset.iloc[2,0] = T3\n",
    "T3\n"
   ]
  },
  {
   "cell_type": "code",
   "execution_count": 160,
   "id": "b9a3da89",
   "metadata": {},
   "outputs": [
    {
     "data": {
      "image/png": "[encoded data removed]",
      "text/latex": [
       "$\\displaystyle 111765.880639026$"
      ],
      "text/plain": [
       "111765.880639026"
      ]
     },
     "execution_count": 160,
     "metadata": {},
     "output_type": "execute_result"
    }
   ],
   "source": [
    "Q=8000\n",
    "B=0.724174115722499 \n",
    "e = 0.798062942399659\n",
    "C=B*sym.exp((-e)/T)\n",
    "R=C\n",
    "K= Q/(3*C)\n",
    "a= 0.545252832344278*K\n",
    "q=Q-(a*R)\n",
    "T=17.0733397114433*𝑞+3.92784145441362\n",
    "T4=T\n",
    "dataset.iloc[3,0] = T4\n",
    "T4\n"
   ]
  },
  {
   "cell_type": "code",
   "execution_count": 161,
   "id": "925de6dd",
   "metadata": {},
   "outputs": [
    {
     "data": {
      "image/png": "[encoded data removed]",
      "text/latex": [
       "$\\displaystyle 125736.124738723$"
      ],
      "text/plain": [
       "125736.124738723"
      ]
     },
     "execution_count": 161,
     "metadata": {},
     "output_type": "execute_result"
    }
   ],
   "source": [
    "Q=9000\n",
    "B=0.724174115722499 \n",
    "e = 0.798062942399659\n",
    "C=B*sym.exp((-e)/T)\n",
    "R=C\n",
    "K= Q/(3*C)\n",
    "a= 0.545252832344278*K\n",
    "q=Q-(a*R)\n",
    "T=17.0733397114433*𝑞+3.92784145441362\n",
    "T5=T\n",
    "dataset.iloc[4,0] = T5\n",
    "T5"
   ]
  },
  {
   "cell_type": "code",
   "execution_count": 162,
   "id": "9d5465ad",
   "metadata": {},
   "outputs": [
    {
     "data": {
      "image/png": "[encoded data removed]",
      "text/latex": [
       "$\\displaystyle 139706.368838419$"
      ],
      "text/plain": [
       "139706.368838419"
      ]
     },
     "execution_count": 162,
     "metadata": {},
     "output_type": "execute_result"
    }
   ],
   "source": [
    "Q=10000\n",
    "B=0.724174115722499 \n",
    "e = 0.798062942399659\n",
    "C=B*sym.exp((-e)/T)\n",
    "R=C\n",
    "K= Q/(3*C)\n",
    "a= 0.545252832344278*K\n",
    "q=Q-(a*R)\n",
    "T=17.0733397114433*𝑞+3.92784145441362\n",
    "T6=T\n",
    "dataset.iloc[5,0] = T6\n",
    "T6"
   ]
  },
  {
   "cell_type": "code",
   "execution_count": 163,
   "id": "5d6d0010",
   "metadata": {},
   "outputs": [
    {
     "data": {
      "image/png": "[encoded data removed]",
      "text/latex": [
       "$\\displaystyle 153676.612938116$"
      ],
      "text/plain": [
       "153676.612938116"
      ]
     },
     "execution_count": 163,
     "metadata": {},
     "output_type": "execute_result"
    }
   ],
   "source": [
    "Q=11000\n",
    "B=0.724174115722499 \n",
    "e = 0.798062942399659\n",
    "C=B*sym.exp((-e)/T)\n",
    "R=C\n",
    "K= Q/(3*C)\n",
    "a= 0.545252832344278*K\n",
    "q=Q-(a*R)\n",
    "T=17.0733397114433*𝑞+3.92784145441362\n",
    "T7=T\n",
    "dataset.iloc[6,0] = T7\n",
    "T7"
   ]
  },
  {
   "cell_type": "code",
   "execution_count": 164,
   "id": "49b578b0",
   "metadata": {},
   "outputs": [
    {
     "data": {
      "image/png": "[encoded data removed]",
      "text/latex": [
       "$\\displaystyle 167646.857037812$"
      ],
      "text/plain": [
       "167646.857037812"
      ]
     },
     "execution_count": 164,
     "metadata": {},
     "output_type": "execute_result"
    }
   ],
   "source": [
    "Q=12000\n",
    "B=0.724174115722499 \n",
    "e = 0.798062942399659\n",
    "C=B*sym.exp((-e)/T)\n",
    "R=C\n",
    "K= Q/(3*C)\n",
    "a= 0.545252832344278*K\n",
    "q=Q-(a*R)\n",
    "T=17.0733397114433*𝑞+3.92784145441362\n",
    "T8=T\n",
    "dataset.iloc[7,0] = T8\n",
    "T8"
   ]
  },
  {
   "cell_type": "code",
   "execution_count": 165,
   "id": "fe6061f1",
   "metadata": {},
   "outputs": [
    {
     "data": {
      "image/png": "[encoded data removed]",
      "text/latex": [
       "$\\displaystyle 181617.101137508$"
      ],
      "text/plain": [
       "181617.101137508"
      ]
     },
     "execution_count": 165,
     "metadata": {},
     "output_type": "execute_result"
    }
   ],
   "source": [
    "Q=13000\n",
    "B=0.724174115722499 \n",
    "e = 0.798062942399659\n",
    "C=B*sym.exp((-e)/T)\n",
    "R=C\n",
    "K= Q/(3*C)\n",
    "a= 0.545252832344278*K\n",
    "q=Q-(a*R)\n",
    "T=17.0733397114433*𝑞+3.92784145441362\n",
    "T9=T\n",
    "dataset.iloc[8,0] = T9\n",
    "T9"
   ]
  },
  {
   "cell_type": "code",
   "execution_count": 166,
   "id": "d105a270",
   "metadata": {},
   "outputs": [
    {
     "data": {
      "image/png": "[encoded data removed]",
      "text/latex": [
       "$\\displaystyle 195587.345237205$"
      ],
      "text/plain": [
       "195587.345237205"
      ]
     },
     "execution_count": 166,
     "metadata": {},
     "output_type": "execute_result"
    }
   ],
   "source": [
    "Q=14000\n",
    "B=0.724174115722499 \n",
    "e = 0.798062942399659\n",
    "C=B*sym.exp((-e)/T)\n",
    "R=C\n",
    "K= Q/(3*C)\n",
    "a= 0.545252832344278*K\n",
    "q=Q-(a*R)\n",
    "T=17.0733397114433*𝑞+3.92784145441362\n",
    "T10=T\n",
    "dataset.iloc[9,0] = T10\n",
    "T10"
   ]
  },
  {
   "cell_type": "code",
   "execution_count": 167,
   "id": "8196ce1a",
   "metadata": {},
   "outputs": [
    {
     "data": {
      "text/html": [
       "<div>\n",
       "<style scoped>\n",
       "    .dataframe tbody tr th:only-of-type {\n",
       "        vertical-align: middle;\n",
       "    }\n",
       "\n",
       "    .dataframe tbody tr th {\n",
       "        vertical-align: top;\n",
       "    }\n",
       "\n",
       "    .dataframe thead th {\n",
       "        text-align: right;\n",
       "    }\n",
       "</style>\n",
       "<table border=\"1\" class=\"dataframe\">\n",
       "  <thead>\n",
       "    <tr style=\"text-align: right;\">\n",
       "      <th></th>\n",
       "      <th>T</th>\n",
       "      <th>Q</th>\n",
       "    </tr>\n",
       "  </thead>\n",
       "  <tbody>\n",
       "    <tr>\n",
       "      <th>1</th>\n",
       "      <td>69855.1483399367</td>\n",
       "      <td>5000</td>\n",
       "    </tr>\n",
       "    <tr>\n",
       "      <th>2</th>\n",
       "      <td>83825.3924396332</td>\n",
       "      <td>6000</td>\n",
       "    </tr>\n",
       "    <tr>\n",
       "      <th>3</th>\n",
       "      <td>97795.6365393297</td>\n",
       "      <td>7000</td>\n",
       "    </tr>\n",
       "    <tr>\n",
       "      <th>4</th>\n",
       "      <td>111765.880639026</td>\n",
       "      <td>8000</td>\n",
       "    </tr>\n",
       "    <tr>\n",
       "      <th>5</th>\n",
       "      <td>125736.124738723</td>\n",
       "      <td>9000</td>\n",
       "    </tr>\n",
       "    <tr>\n",
       "      <th>6</th>\n",
       "      <td>139706.368838419</td>\n",
       "      <td>10000</td>\n",
       "    </tr>\n",
       "    <tr>\n",
       "      <th>7</th>\n",
       "      <td>153676.612938116</td>\n",
       "      <td>11000</td>\n",
       "    </tr>\n",
       "    <tr>\n",
       "      <th>8</th>\n",
       "      <td>167646.857037812</td>\n",
       "      <td>12000</td>\n",
       "    </tr>\n",
       "    <tr>\n",
       "      <th>9</th>\n",
       "      <td>181617.101137508</td>\n",
       "      <td>13000</td>\n",
       "    </tr>\n",
       "    <tr>\n",
       "      <th>10</th>\n",
       "      <td>195587.345237205</td>\n",
       "      <td>14000</td>\n",
       "    </tr>\n",
       "  </tbody>\n",
       "</table>\n",
       "</div>"
      ],
      "text/plain": [
       "                   T      Q\n",
       "1   69855.1483399367   5000\n",
       "2   83825.3924396332   6000\n",
       "3   97795.6365393297   7000\n",
       "4   111765.880639026   8000\n",
       "5   125736.124738723   9000\n",
       "6   139706.368838419  10000\n",
       "7   153676.612938116  11000\n",
       "8   167646.857037812  12000\n",
       "9   181617.101137508  13000\n",
       "10  195587.345237205  14000"
      ]
     },
     "execution_count": 167,
     "metadata": {},
     "output_type": "execute_result"
    }
   ],
   "source": [
    "dataset"
   ]
  },
  {
   "cell_type": "code",
   "execution_count": 168,
   "id": "d73ffb3c",
   "metadata": {},
   "outputs": [
    {
     "name": "stderr",
     "output_type": "stream",
     "text": [
      "D:\\Users\\suuser\\anaconda3\\envs\\sama\\lib\\site-packages\\matplotlib\\cbook\\__init__.py:1377: FutureWarning: Support for multi-dimensional indexing (e.g. `obj[:, None]`) is deprecated and will be removed in a future version.  Convert to a numpy array before indexing instead.\n",
      "  x[:, None]\n",
      "D:\\Users\\suuser\\anaconda3\\envs\\sama\\lib\\site-packages\\matplotlib\\axes\\_base.py:237: FutureWarning: Support for multi-dimensional indexing (e.g. `obj[:, None]`) is deprecated and will be removed in a future version.  Convert to a numpy array before indexing instead.\n",
      "  x = x[:, np.newaxis]\n",
      "D:\\Users\\suuser\\anaconda3\\envs\\sama\\lib\\site-packages\\matplotlib\\axes\\_base.py:239: FutureWarning: Support for multi-dimensional indexing (e.g. `obj[:, None]`) is deprecated and will be removed in a future version.  Convert to a numpy array before indexing instead.\n",
      "  y = y[:, np.newaxis]\n"
     ]
    },
    {
     "data": {
      "image/png": "[encoded data removed]",
      "text/plain": [
       "<Figure size 504x504 with 1 Axes>"
      ]
     },
     "metadata": {
      "needs_background": "light"
     },
     "output_type": "display_data"
    }
   ],
   "source": [
    "y = dataset.iloc[0: , 0]\n",
    "x = dataset.Q\n",
    "\n",
    "plt.subplots(figsize=(7, 7))\n",
    "plt.title(\" \") \n",
    "plt.xlabel(\"Q\") \n",
    "plt.ylabel(\"Total time of task completion for user i\") \n",
    "plt.plot(x, y, color =\"blue\") \n",
    "plt.show()"
   ]
  },
  {
   "cell_type": "code",
   "execution_count": 169,
   "id": "2b1058a9",
   "metadata": {},
   "outputs": [],
   "source": [
    "#dynamic case"
   ]
  },
  {
   "cell_type": "code",
   "execution_count": 170,
   "id": "9922c193",
   "metadata": {},
   "outputs": [
    {
     "data": {
      "text/html": [
       "<div>\n",
       "<style scoped>\n",
       "    .dataframe tbody tr th:only-of-type {\n",
       "        vertical-align: middle;\n",
       "    }\n",
       "\n",
       "    .dataframe tbody tr th {\n",
       "        vertical-align: top;\n",
       "    }\n",
       "\n",
       "    .dataframe thead th {\n",
       "        text-align: right;\n",
       "    }\n",
       "</style>\n",
       "<table border=\"1\" class=\"dataframe\">\n",
       "  <thead>\n",
       "    <tr style=\"text-align: right;\">\n",
       "      <th></th>\n",
       "      <th>T</th>\n",
       "      <th>Q</th>\n",
       "    </tr>\n",
       "  </thead>\n",
       "  <tbody>\n",
       "    <tr>\n",
       "      <th>1</th>\n",
       "      <td>5000</td>\n",
       "      <td>5000</td>\n",
       "    </tr>\n",
       "    <tr>\n",
       "      <th>2</th>\n",
       "      <td>6000</td>\n",
       "      <td>6000</td>\n",
       "    </tr>\n",
       "    <tr>\n",
       "      <th>3</th>\n",
       "      <td>7000</td>\n",
       "      <td>7000</td>\n",
       "    </tr>\n",
       "    <tr>\n",
       "      <th>4</th>\n",
       "      <td>8000</td>\n",
       "      <td>8000</td>\n",
       "    </tr>\n",
       "    <tr>\n",
       "      <th>5</th>\n",
       "      <td>9000</td>\n",
       "      <td>9000</td>\n",
       "    </tr>\n",
       "    <tr>\n",
       "      <th>6</th>\n",
       "      <td>10000</td>\n",
       "      <td>10000</td>\n",
       "    </tr>\n",
       "    <tr>\n",
       "      <th>7</th>\n",
       "      <td>11000</td>\n",
       "      <td>11000</td>\n",
       "    </tr>\n",
       "    <tr>\n",
       "      <th>8</th>\n",
       "      <td>12000</td>\n",
       "      <td>12000</td>\n",
       "    </tr>\n",
       "    <tr>\n",
       "      <th>9</th>\n",
       "      <td>13000</td>\n",
       "      <td>13000</td>\n",
       "    </tr>\n",
       "    <tr>\n",
       "      <th>10</th>\n",
       "      <td>14000</td>\n",
       "      <td>14000</td>\n",
       "    </tr>\n",
       "  </tbody>\n",
       "</table>\n",
       "</div>"
      ],
      "text/plain": [
       "        T      Q\n",
       "1    5000   5000\n",
       "2    6000   6000\n",
       "3    7000   7000\n",
       "4    8000   8000\n",
       "5    9000   9000\n",
       "6   10000  10000\n",
       "7   11000  11000\n",
       "8   12000  12000\n",
       "9   13000  13000\n",
       "10  14000  14000"
      ]
     },
     "execution_count": 170,
     "metadata": {},
     "output_type": "execute_result"
    }
   ],
   "source": [
    "dataset1 = pd.DataFrame(columns = ['T','Q'])\n",
    "count = 5000\n",
    "row = 1\n",
    "dataset1.loc[row] = count\n",
    "for i in range(5000,14000,1000):       \n",
    "    row = row + 1\n",
    "    count = count + 1000\n",
    "    dataset1.loc[row] = count\n",
    "dataset1\n"
   ]
  },
  {
   "cell_type": "code",
   "execution_count": 171,
   "id": "abba486b",
   "metadata": {},
   "outputs": [],
   "source": [
    "#Dynamic Case optimal"
   ]
  },
  {
   "cell_type": "code",
   "execution_count": 172,
   "id": "2694a70d",
   "metadata": {},
   "outputs": [
    {
     "data": {
      "image/png": "[encoded data removed]",
      "text/latex": [
       "$\\displaystyle 42687.2771200627$"
      ],
      "text/plain": [
       "42687.27712006267"
      ]
     },
     "execution_count": 172,
     "metadata": {},
     "output_type": "execute_result"
    }
   ],
   "source": [
    "Q= 5000\n",
    "q=Q/2\n",
    "T=17.0733397114433*𝑞+3.92784145441362\n",
    "T1d=T\n",
    "dataset1.iloc[0,0] = T1d\n",
    "T1d"
   ]
  },
  {
   "cell_type": "code",
   "execution_count": 173,
   "id": "e78a1cbb",
   "metadata": {},
   "outputs": [
    {
     "data": {
      "image/png": "[encoded data removed]",
      "text/latex": [
       "$\\displaystyle 51223.9469757843$"
      ],
      "text/plain": [
       "51223.94697578432"
      ]
     },
     "execution_count": 173,
     "metadata": {},
     "output_type": "execute_result"
    }
   ],
   "source": [
    "Q= 6000\n",
    "q=Q/2\n",
    "T=17.0733397114433*𝑞+3.92784145441362\n",
    "T2d=T\n",
    "dataset1.iloc[1,0] = T2d\n",
    "T2d"
   ]
  },
  {
   "cell_type": "code",
   "execution_count": 174,
   "id": "d21a0134",
   "metadata": {},
   "outputs": [
    {
     "data": {
      "image/png": "[encoded data removed]",
      "text/latex": [
       "$\\displaystyle 59760.616831506$"
      ],
      "text/plain": [
       "59760.61683150596"
      ]
     },
     "execution_count": 174,
     "metadata": {},
     "output_type": "execute_result"
    }
   ],
   "source": [
    "Q= 7000\n",
    "q=Q/2\n",
    "T=17.0733397114433*𝑞+3.92784145441362\n",
    "T3d=T\n",
    "dataset1.iloc[2,0] = T3d\n",
    "T3d"
   ]
  },
  {
   "cell_type": "code",
   "execution_count": 175,
   "id": "402025ad",
   "metadata": {},
   "outputs": [
    {
     "data": {
      "image/png": "[encoded data removed]",
      "text/latex": [
       "$\\displaystyle 68297.2866872276$"
      ],
      "text/plain": [
       "68297.2866872276"
      ]
     },
     "execution_count": 175,
     "metadata": {},
     "output_type": "execute_result"
    }
   ],
   "source": [
    "Q= 8000\n",
    "q=Q/2\n",
    "T=17.0733397114433*𝑞+3.92784145441362\n",
    "T4d=T\n",
    "dataset1.iloc[3,0] = T4d\n",
    "T4d"
   ]
  },
  {
   "cell_type": "code",
   "execution_count": 176,
   "id": "de5f2092",
   "metadata": {},
   "outputs": [
    {
     "data": {
      "image/png": "[encoded data removed]",
      "text/latex": [
       "$\\displaystyle 76833.9565429493$"
      ],
      "text/plain": [
       "76833.95654294926"
      ]
     },
     "execution_count": 176,
     "metadata": {},
     "output_type": "execute_result"
    }
   ],
   "source": [
    "Q= 9000\n",
    "q=Q/2\n",
    "T=17.0733397114433*𝑞+3.92784145441362\n",
    "T5d=T\n",
    "dataset1.iloc[4,0] = T5d\n",
    "T5d"
   ]
  },
  {
   "cell_type": "code",
   "execution_count": 177,
   "id": "89f5e988",
   "metadata": {},
   "outputs": [
    {
     "data": {
      "image/png": "[encoded data removed]",
      "text/latex": [
       "$\\displaystyle 85370.6263986709$"
      ],
      "text/plain": [
       "85370.62639867091"
      ]
     },
     "execution_count": 177,
     "metadata": {},
     "output_type": "execute_result"
    }
   ],
   "source": [
    "Q= 10000\n",
    "q=Q/2\n",
    "T=17.0733397114433*𝑞+3.92784145441362\n",
    "T6d=T\n",
    "dataset1.iloc[5,0] = T6d\n",
    "T6d"
   ]
  },
  {
   "cell_type": "code",
   "execution_count": 178,
   "id": "2bd98d07",
   "metadata": {},
   "outputs": [
    {
     "data": {
      "image/png": "[encoded data removed]",
      "text/latex": [
       "$\\displaystyle 93907.2962543926$"
      ],
      "text/plain": [
       "93907.29625439255"
      ]
     },
     "execution_count": 178,
     "metadata": {},
     "output_type": "execute_result"
    }
   ],
   "source": [
    "Q= 11000\n",
    "q=Q/2\n",
    "T=17.0733397114433*𝑞+3.92784145441362\n",
    "T7d=T\n",
    "dataset1.iloc[6,0] = T7d\n",
    "T7d"
   ]
  },
  {
   "cell_type": "code",
   "execution_count": 179,
   "id": "a13b8769",
   "metadata": {},
   "outputs": [
    {
     "data": {
      "image/png": "[encoded data removed]",
      "text/latex": [
       "$\\displaystyle 102443.966110114$"
      ],
      "text/plain": [
       "102443.96611011421"
      ]
     },
     "execution_count": 179,
     "metadata": {},
     "output_type": "execute_result"
    }
   ],
   "source": [
    "Q= 12000\n",
    "q=Q/2\n",
    "T=17.0733397114433*𝑞+3.92784145441362\n",
    "T8d=T\n",
    "dataset1.iloc[7,0] = T8d\n",
    "T8d"
   ]
  },
  {
   "cell_type": "code",
   "execution_count": 180,
   "id": "d8e9cc17",
   "metadata": {},
   "outputs": [
    {
     "data": {
      "image/png": "[encoded data removed]",
      "text/latex": [
       "$\\displaystyle 110980.635965836$"
      ],
      "text/plain": [
       "110980.63596583586"
      ]
     },
     "execution_count": 180,
     "metadata": {},
     "output_type": "execute_result"
    }
   ],
   "source": [
    "Q= 13000\n",
    "q=Q/2\n",
    "T=17.0733397114433*𝑞+3.92784145441362\n",
    "T9d=T\n",
    "dataset1.iloc[8,0] = T9d\n",
    "T9d"
   ]
  },
  {
   "cell_type": "code",
   "execution_count": 181,
   "id": "b9d16fad",
   "metadata": {},
   "outputs": [
    {
     "data": {
      "image/png": "[encoded data removed]",
      "text/latex": [
       "$\\displaystyle 119517.305821558$"
      ],
      "text/plain": [
       "119517.3058215575"
      ]
     },
     "execution_count": 181,
     "metadata": {},
     "output_type": "execute_result"
    }
   ],
   "source": [
    "Q= 14000\n",
    "q=Q/2\n",
    "T=17.0733397114433*𝑞+3.92784145441362\n",
    "T10d=T\n",
    "dataset1.iloc[9,0] = T10d\n",
    "T10d"
   ]
  },
  {
   "cell_type": "code",
   "execution_count": 182,
   "id": "02d41431",
   "metadata": {},
   "outputs": [
    {
     "data": {
      "text/html": [
       "<div>\n",
       "<style scoped>\n",
       "    .dataframe tbody tr th:only-of-type {\n",
       "        vertical-align: middle;\n",
       "    }\n",
       "\n",
       "    .dataframe tbody tr th {\n",
       "        vertical-align: top;\n",
       "    }\n",
       "\n",
       "    .dataframe thead th {\n",
       "        text-align: right;\n",
       "    }\n",
       "</style>\n",
       "<table border=\"1\" class=\"dataframe\">\n",
       "  <thead>\n",
       "    <tr style=\"text-align: right;\">\n",
       "      <th></th>\n",
       "      <th>T</th>\n",
       "      <th>Q</th>\n",
       "    </tr>\n",
       "  </thead>\n",
       "  <tbody>\n",
       "    <tr>\n",
       "      <th>1</th>\n",
       "      <td>42687.27712</td>\n",
       "      <td>5000</td>\n",
       "    </tr>\n",
       "    <tr>\n",
       "      <th>2</th>\n",
       "      <td>51223.946976</td>\n",
       "      <td>6000</td>\n",
       "    </tr>\n",
       "    <tr>\n",
       "      <th>3</th>\n",
       "      <td>59760.616832</td>\n",
       "      <td>7000</td>\n",
       "    </tr>\n",
       "    <tr>\n",
       "      <th>4</th>\n",
       "      <td>68297.286687</td>\n",
       "      <td>8000</td>\n",
       "    </tr>\n",
       "    <tr>\n",
       "      <th>5</th>\n",
       "      <td>76833.956543</td>\n",
       "      <td>9000</td>\n",
       "    </tr>\n",
       "    <tr>\n",
       "      <th>6</th>\n",
       "      <td>85370.626399</td>\n",
       "      <td>10000</td>\n",
       "    </tr>\n",
       "    <tr>\n",
       "      <th>7</th>\n",
       "      <td>93907.296254</td>\n",
       "      <td>11000</td>\n",
       "    </tr>\n",
       "    <tr>\n",
       "      <th>8</th>\n",
       "      <td>102443.96611</td>\n",
       "      <td>12000</td>\n",
       "    </tr>\n",
       "    <tr>\n",
       "      <th>9</th>\n",
       "      <td>110980.635966</td>\n",
       "      <td>13000</td>\n",
       "    </tr>\n",
       "    <tr>\n",
       "      <th>10</th>\n",
       "      <td>119517.305822</td>\n",
       "      <td>14000</td>\n",
       "    </tr>\n",
       "  </tbody>\n",
       "</table>\n",
       "</div>"
      ],
      "text/plain": [
       "                T      Q\n",
       "1     42687.27712   5000\n",
       "2    51223.946976   6000\n",
       "3    59760.616832   7000\n",
       "4    68297.286687   8000\n",
       "5    76833.956543   9000\n",
       "6    85370.626399  10000\n",
       "7    93907.296254  11000\n",
       "8    102443.96611  12000\n",
       "9   110980.635966  13000\n",
       "10  119517.305822  14000"
      ]
     },
     "execution_count": 182,
     "metadata": {},
     "output_type": "execute_result"
    }
   ],
   "source": [
    "dataset1"
   ]
  },
  {
   "cell_type": "code",
   "execution_count": 183,
   "id": "662dfef9",
   "metadata": {},
   "outputs": [
    {
     "name": "stderr",
     "output_type": "stream",
     "text": [
      "D:\\Users\\suuser\\anaconda3\\envs\\sama\\lib\\site-packages\\matplotlib\\cbook\\__init__.py:1377: FutureWarning: Support for multi-dimensional indexing (e.g. `obj[:, None]`) is deprecated and will be removed in a future version.  Convert to a numpy array before indexing instead.\n",
      "  x[:, None]\n",
      "D:\\Users\\suuser\\anaconda3\\envs\\sama\\lib\\site-packages\\matplotlib\\axes\\_base.py:237: FutureWarning: Support for multi-dimensional indexing (e.g. `obj[:, None]`) is deprecated and will be removed in a future version.  Convert to a numpy array before indexing instead.\n",
      "  x = x[:, np.newaxis]\n",
      "D:\\Users\\suuser\\anaconda3\\envs\\sama\\lib\\site-packages\\matplotlib\\axes\\_base.py:239: FutureWarning: Support for multi-dimensional indexing (e.g. `obj[:, None]`) is deprecated and will be removed in a future version.  Convert to a numpy array before indexing instead.\n",
      "  y = y[:, np.newaxis]\n"
     ]
    },
    {
     "data": {
      "image/png": "[encoded data removed]",
      "text/plain": [
       "<Figure size 504x504 with 1 Axes>"
      ]
     },
     "metadata": {
      "needs_background": "light"
     },
     "output_type": "display_data"
    }
   ],
   "source": [
    "y = dataset1.iloc[0: , 0]\n",
    "x = dataset1.Q\n",
    "\n",
    "plt.subplots(figsize=(7, 7))\n",
    "plt.title(\" \") \n",
    "plt.xlabel(\"Q values\") \n",
    "plt.ylabel(\"Total task completion time in dynamic scenario\") \n",
    "plt.plot(x, y, color =\"orange\") \n",
    "plt.show()"
   ]
  },
  {
   "cell_type": "code",
   "execution_count": 184,
   "id": "62fa9fdb",
   "metadata": {},
   "outputs": [
    {
     "data": {
      "image/png": "[encoded data removed]",
      "text/plain": [
       "<Figure size 504x504 with 1 Axes>"
      ]
     },
     "metadata": {
      "needs_background": "light"
     },
     "output_type": "display_data"
    }
   ],
   "source": [
    "x = dataset.Q\n",
    "y1 = dataset.iloc[0: , 0]\n",
    "y2 = dataset1.iloc[0: , 0]\n",
    "\n",
    "plt.subplots(figsize=(7, 7))\n",
    "plt.title(\"Blue for non Optimal Dynamic Case-  Orange for Optimal Dynamic Case\") \n",
    "plt.xlabel(\"Q\") \n",
    "plt.ylabel(\"Total Task Completion Time for User i \") \n",
    "plt.plot(x, y1) \n",
    "plt.plot(x, y2) \n",
    "plt.show()"
   ]
  },
  {
   "cell_type": "code",
   "execution_count": null,
   "id": "7cdf48f1",
   "metadata": {},
   "outputs": [],
   "source": []
  },
  {
   "cell_type": "code",
   "execution_count": null,
   "id": "f17c1b60",
   "metadata": {},
   "outputs": [],
   "source": []
  }
 ],
 "metadata": {
  "kernelspec": {
   "display_name": "Python 3 (ipykernel)",
   "language": "python",
   "name": "python3"
  },
  "language_info": {
   "codemirror_mode": {
    "name": "ipython",
    "version": 3
   },
   "file_extension": ".py",
   "mimetype": "text/x-python",
   "name": "python",
   "nbconvert_exporter": "python",
   "pygments_lexer": "ipython3",
   "version": "3.7.6"
  }
 },
 "nbformat": 4,
 "nbformat_minor": 5
}
