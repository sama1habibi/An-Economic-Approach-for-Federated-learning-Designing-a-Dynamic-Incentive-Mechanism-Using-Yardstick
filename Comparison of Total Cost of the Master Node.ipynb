{
 "cells": [
  {
   "cell_type": "code",
   "execution_count": 112,
   "id": "887019aa",
   "metadata": {},
   "outputs": [],
   "source": [
    "import sympy as sym\n",
    "import numpy as np\n",
    "sym.init_printing()\n",
    "from scipy.integrate import quad\n",
    "from sympy import oo\n",
    "import math as m\n",
    "import matplotlib.pyplot as plt\n",
    "import pandas as pd\n",
    "import random\n",
    "a, B, C, Q, K, M, T1, T2, R, t, e, q, R, N = sym.symbols ('a B C Q K M T1 T2 R t e q  R N')"
   ]
  },
  {
   "cell_type": "code",
   "execution_count": 113,
   "id": "21df6cfe",
   "metadata": {},
   "outputs": [],
   "source": [
    "#B=0.724174115722499       represents the beta in equation 6 that has a rando value between (0,1)\n",
    "#e = 0.798062942399659     is the efficiency level of worker it has a random value for all symmetric workers of each wo\n",
    "#Q                         task of master node at each period\n",
    "#q=Q-(a*R)                  allocated task to each waoker at each period\n",
    "#R                          reward given to each of symmetric workers \n",
    "#C=B*sym.exp((-e)/T)        cost function\n",
    "#K= Q/(3*C)\n",
    "#a= 0.545252832344278*K                       constant value in 4th line \n",
    "# T1=17.0733397114433*𝑞                       computation time where c/p is constant value and time just depends on the allocated task\n",
    "# T2=3.92784145441362                         Communication time constant and same for all workers with same transmitting powe and same channel rate\n",
    "#T=17.0733397114433*𝑞+3.92784145441362        total computation and communication  time"
   ]
  },
  {
   "cell_type": "code",
   "execution_count": 114,
   "id": "fb4d8189",
   "metadata": {},
   "outputs": [
    {
     "data": {
      "text/html": [
       "<div>\n",
       "<style scoped>\n",
       "    .dataframe tbody tr th:only-of-type {\n",
       "        vertical-align: middle;\n",
       "    }\n",
       "\n",
       "    .dataframe tbody tr th {\n",
       "        vertical-align: top;\n",
       "    }\n",
       "\n",
       "    .dataframe thead th {\n",
       "        text-align: right;\n",
       "    }\n",
       "</style>\n",
       "<table border=\"1\" class=\"dataframe\">\n",
       "  <thead>\n",
       "    <tr style=\"text-align: right;\">\n",
       "      <th></th>\n",
       "      <th>Total MC</th>\n",
       "      <th>q</th>\n",
       "    </tr>\n",
       "  </thead>\n",
       "  <tbody>\n",
       "    <tr>\n",
       "      <th>1</th>\n",
       "      <td>1000</td>\n",
       "      <td>1000</td>\n",
       "    </tr>\n",
       "    <tr>\n",
       "      <th>2</th>\n",
       "      <td>2000</td>\n",
       "      <td>2000</td>\n",
       "    </tr>\n",
       "    <tr>\n",
       "      <th>3</th>\n",
       "      <td>3000</td>\n",
       "      <td>3000</td>\n",
       "    </tr>\n",
       "    <tr>\n",
       "      <th>4</th>\n",
       "      <td>4000</td>\n",
       "      <td>4000</td>\n",
       "    </tr>\n",
       "    <tr>\n",
       "      <th>5</th>\n",
       "      <td>5000</td>\n",
       "      <td>5000</td>\n",
       "    </tr>\n",
       "    <tr>\n",
       "      <th>6</th>\n",
       "      <td>6000</td>\n",
       "      <td>6000</td>\n",
       "    </tr>\n",
       "    <tr>\n",
       "      <th>7</th>\n",
       "      <td>7000</td>\n",
       "      <td>7000</td>\n",
       "    </tr>\n",
       "    <tr>\n",
       "      <th>8</th>\n",
       "      <td>8000</td>\n",
       "      <td>8000</td>\n",
       "    </tr>\n",
       "    <tr>\n",
       "      <th>9</th>\n",
       "      <td>9000</td>\n",
       "      <td>9000</td>\n",
       "    </tr>\n",
       "    <tr>\n",
       "      <th>10</th>\n",
       "      <td>10000</td>\n",
       "      <td>10000</td>\n",
       "    </tr>\n",
       "  </tbody>\n",
       "</table>\n",
       "</div>"
      ],
      "text/plain": [
       "   Total MC      q\n",
       "1      1000   1000\n",
       "2      2000   2000\n",
       "3      3000   3000\n",
       "4      4000   4000\n",
       "5      5000   5000\n",
       "6      6000   6000\n",
       "7      7000   7000\n",
       "8      8000   8000\n",
       "9      9000   9000\n",
       "10    10000  10000"
      ]
     },
     "execution_count": 114,
     "metadata": {},
     "output_type": "execute_result"
    }
   ],
   "source": [
    "dataset = pd.DataFrame(columns = ['Total MC','q'])\n",
    "count = 1000\n",
    "row = 1\n",
    "dataset.loc[row] = count\n",
    "for i in range(1000,10000,1000):       \n",
    "    row = row + 1\n",
    "    count = count + 1000\n",
    "    dataset.loc[row] = count\n",
    "dataset\n"
   ]
  },
  {
   "cell_type": "code",
   "execution_count": 115,
   "id": "6f413a0f",
   "metadata": {},
   "outputs": [
    {
     "data": {
      "image/png": "[encoded data removed]",
      "text/latex": [
       "$\\displaystyle 3585.82041944134$"
      ],
      "text/plain": [
       "3585.82041944134"
      ]
     },
     "execution_count": 115,
     "metadata": {},
     "output_type": "execute_result"
    }
   ],
   "source": [
    "#static \n",
    "q=1000\n",
    "B=0.724174115722499 \n",
    "T1=3.92784145441362\n",
    "T2=17.0733397114433*𝑞\n",
    "e = 0.798062942399659\n",
    "C=B*sym.exp((-e)/(T1+T2))\n",
    "Q= 10000\n",
    "K= Q/(3*C)\n",
    "a= 0.545252832344278*K\n",
    "R=((Q-q)/a)\n",
    "R\n",
    "R1=R\n",
    "M1=R1*q\n",
    "dataset.iloc[0,0] = M1\n",
    "M1"
   ]
  },
  {
   "cell_type": "code",
   "execution_count": 116,
   "id": "f72973ab",
   "metadata": {},
   "outputs": [
    {
     "data": {
      "image/png": "[encoded data removed]",
      "text/latex": [
       "$\\displaystyle 9960.76121572743$"
      ],
      "text/plain": [
       "9960.76121572743"
      ]
     },
     "execution_count": 116,
     "metadata": {},
     "output_type": "execute_result"
    }
   ],
   "source": [
    "q=2000\n",
    "B=0.724174115722499 \n",
    "T1=3.92784145441362\n",
    "T2=17.0733397114433*𝑞\n",
    "e = 0.798062942399659\n",
    "C=B*sym.exp((-e)/(T1+T2))\n",
    "Q= 10000\n",
    "K= Q/(3*C)\n",
    "a= 0.545252832344278*K\n",
    "R=((Q-q)/a)\n",
    "R\n",
    "R2=R\n",
    "M2=R2*q+M1\n",
    "dataset.iloc[1,0] = M2\n",
    "M2"
   ]
  },
  {
   "cell_type": "code",
   "execution_count": 117,
   "id": "895af65a",
   "metadata": {},
   "outputs": [
    {
     "data": {
      "image/png": "[encoded data removed]",
      "text/latex": [
       "$\\displaystyle 18327.936182893$"
      ],
      "text/plain": [
       "18327.9361828930"
      ]
     },
     "execution_count": 117,
     "metadata": {},
     "output_type": "execute_result"
    }
   ],
   "source": [
    "q=3000\n",
    "B=0.724174115722499 \n",
    "T1=3.92784145441362\n",
    "T2=17.0733397114433*𝑞\n",
    "e = 0.798062942399659\n",
    "C=B*sym.exp((-e)/(T1+T2))\n",
    "Q= 10000\n",
    "K= Q/(3*C)\n",
    "a= 0.545252832344278*K\n",
    "R=((Q-q)/a)\n",
    "R3=R\n",
    "M3=R3*q+M2\n",
    "dataset.iloc[2,0] = M3\n",
    "M3\n"
   ]
  },
  {
   "cell_type": "code",
   "execution_count": 118,
   "id": "b9a3da89",
   "metadata": {},
   "outputs": [
    {
     "data": {
      "image/png": "[encoded data removed]",
      "text/latex": [
       "$\\displaystyle 27890.4591031788$"
      ],
      "text/plain": [
       "27890.4591031788"
      ]
     },
     "execution_count": 118,
     "metadata": {},
     "output_type": "execute_result"
    }
   ],
   "source": [
    "q=4000\n",
    "B=0.724174115722499 \n",
    "T1=3.92784145441362\n",
    "T2=17.0733397114433*𝑞\n",
    "e = 0.798062942399659\n",
    "C=B*sym.exp((-e)/(T1+T2))\n",
    "Q= 10000\n",
    "K= Q/(3*C)\n",
    "a= 0.545252832344278*K\n",
    "R=((Q-q)/a)\n",
    "R4=R\n",
    "M4=R4*q+M3\n",
    "dataset.iloc[3,0] = M4\n",
    "M4\n"
   ]
  },
  {
   "cell_type": "code",
   "execution_count": 119,
   "id": "925de6dd",
   "metadata": {},
   "outputs": [
    {
     "data": {
      "image/png": "[encoded data removed]",
      "text/latex": [
       "$\\displaystyle 37851.4437564662$"
      ],
      "text/plain": [
       "37851.4437564662"
      ]
     },
     "execution_count": 119,
     "metadata": {},
     "output_type": "execute_result"
    }
   ],
   "source": [
    "q=5000\n",
    "B=0.724174115722499 \n",
    "T1=3.92784145441362\n",
    "T2=17.0733397114433*𝑞\n",
    "e = 0.798062942399659\n",
    "C=B*sym.exp((-e)/(T1+T2))\n",
    "Q= 10000\n",
    "K= Q/(3*C)\n",
    "a= 0.545252832344278*K\n",
    "R=((Q-q)/a)\n",
    "R5=R\n",
    "M5=R5*q+M4\n",
    "dataset.iloc[4,0] = M5\n",
    "M5"
   ]
  },
  {
   "cell_type": "code",
   "execution_count": 120,
   "id": "9d5465ad",
   "metadata": {},
   "outputs": [
    {
     "data": {
      "image/png": "[encoded data removed]",
      "text/latex": [
       "$\\displaystyle 47414.0039218502$"
      ],
      "text/plain": [
       "47414.0039218502"
      ]
     },
     "execution_count": 120,
     "metadata": {},
     "output_type": "execute_result"
    }
   ],
   "source": [
    "q=6000\n",
    "B=0.724174115722499 \n",
    "T1=3.92784145441362\n",
    "T2=17.0733397114433*𝑞\n",
    "e = 0.798062942399659\n",
    "C=B*sym.exp((-e)/(T1+T2))\n",
    "Q= 10000\n",
    "K= Q/(3*C)\n",
    "a= 0.545252832344278*K\n",
    "R=((Q-q)/a)\n",
    "R6=R\n",
    "M6=R6*q+M5\n",
    "dataset.iloc[5,0] = M6\n",
    "M6"
   ]
  },
  {
   "cell_type": "code",
   "execution_count": 121,
   "id": "5d6d0010",
   "metadata": {},
   "outputs": [
    {
     "data": {
      "image/png": "[encoded data removed]",
      "text/latex": [
       "$\\displaystyle 55781.2533780885$"
      ],
      "text/plain": [
       "55781.2533780885"
      ]
     },
     "execution_count": 121,
     "metadata": {},
     "output_type": "execute_result"
    }
   ],
   "source": [
    "q=7000\n",
    "B=0.724174115722499 \n",
    "T1=3.92784145441362\n",
    "T2=17.0733397114433*𝑞\n",
    "e = 0.798062942399659\n",
    "C=B*sym.exp((-e)/(T1+T2))\n",
    "Q= 10000\n",
    "K= Q/(3*C)\n",
    "a= 0.545252832344278*K\n",
    "R=((Q-q)/a)\n",
    "R7=R\n",
    "M7=R7*q+M6\n",
    "dataset.iloc[6,0] = M7\n",
    "M7"
   ]
  },
  {
   "cell_type": "code",
   "execution_count": 122,
   "id": "49b578b0",
   "metadata": {},
   "outputs": [
    {
     "data": {
      "image/png": "[encoded data removed]",
      "text/latex": [
       "$\\displaystyle 62156.3059037704$"
      ],
      "text/plain": [
       "62156.3059037704"
      ]
     },
     "execution_count": 122,
     "metadata": {},
     "output_type": "execute_result"
    }
   ],
   "source": [
    "q=8000\n",
    "B=0.724174115722499 \n",
    "T1=3.92784145441362\n",
    "T2=17.0733397114433*𝑞\n",
    "e = 0.798062942399659\n",
    "C=B*sym.exp((-e)/(T1+T2))\n",
    "Q= 10000\n",
    "K= Q/(3*C)\n",
    "a= 0.545252832344278*K\n",
    "R=((Q-q)/a)\n",
    "R8=R\n",
    "M8=R8*q+M7\n",
    "dataset.iloc[7,0] = M8\n",
    "M8"
   ]
  },
  {
   "cell_type": "code",
   "execution_count": 123,
   "id": "fe6061f1",
   "metadata": {},
   "outputs": [
    {
     "data": {
      "image/png": "[encoded data removed]",
      "text/latex": [
       "$\\displaystyle 65742.2752773917$"
      ],
      "text/plain": [
       "65742.2752773917"
      ]
     },
     "execution_count": 123,
     "metadata": {},
     "output_type": "execute_result"
    }
   ],
   "source": [
    "q=9000\n",
    "B=0.724174115722499 \n",
    "T1=3.92784145441362\n",
    "T2=17.0733397114433*𝑞\n",
    "e = 0.798062942399659\n",
    "C=B*sym.exp((-e)/(T1+T2))\n",
    "Q= 10000\n",
    "K= Q/(3*C)\n",
    "a= 0.545252832344278*K\n",
    "R=((Q-q)/a)\n",
    "R9=R\n",
    "M9=R9*q+M8\n",
    "dataset.iloc[8,0] = M9\n",
    "M9"
   ]
  },
  {
   "cell_type": "code",
   "execution_count": 124,
   "id": "d105a270",
   "metadata": {},
   "outputs": [
    {
     "data": {
      "image/png": "[encoded data removed]",
      "text/latex": [
       "$\\displaystyle 69328.2446510129$"
      ],
      "text/plain": [
       "69328.2446510129"
      ]
     },
     "execution_count": 124,
     "metadata": {},
     "output_type": "execute_result"
    }
   ],
   "source": [
    "R=10000\n",
    "B=0.724174115722499 \n",
    "T1=3.92784145441362\n",
    "T2=17.0733397114433*𝑞\n",
    "e = 0.798062942399659\n",
    "C=B*sym.exp((-e)/(T1+T2))\n",
    "Q= 10000\n",
    "K= Q/(3*C)\n",
    "a= 0.545252832344278*K\n",
    "R=((Q-q)/a)\n",
    "R10=R\n",
    "M10=R10*q+M9\n",
    "dataset.iloc[9,0] = M10\n",
    "M10"
   ]
  },
  {
   "cell_type": "code",
   "execution_count": 125,
   "id": "8196ce1a",
   "metadata": {},
   "outputs": [
    {
     "data": {
      "text/html": [
       "<div>\n",
       "<style scoped>\n",
       "    .dataframe tbody tr th:only-of-type {\n",
       "        vertical-align: middle;\n",
       "    }\n",
       "\n",
       "    .dataframe tbody tr th {\n",
       "        vertical-align: top;\n",
       "    }\n",
       "\n",
       "    .dataframe thead th {\n",
       "        text-align: right;\n",
       "    }\n",
       "</style>\n",
       "<table border=\"1\" class=\"dataframe\">\n",
       "  <thead>\n",
       "    <tr style=\"text-align: right;\">\n",
       "      <th></th>\n",
       "      <th>Total MC</th>\n",
       "      <th>q</th>\n",
       "    </tr>\n",
       "  </thead>\n",
       "  <tbody>\n",
       "    <tr>\n",
       "      <th>1</th>\n",
       "      <td>3585.82041944134</td>\n",
       "      <td>1000</td>\n",
       "    </tr>\n",
       "    <tr>\n",
       "      <th>2</th>\n",
       "      <td>9960.76121572743</td>\n",
       "      <td>2000</td>\n",
       "    </tr>\n",
       "    <tr>\n",
       "      <th>3</th>\n",
       "      <td>18327.9361828930</td>\n",
       "      <td>3000</td>\n",
       "    </tr>\n",
       "    <tr>\n",
       "      <th>4</th>\n",
       "      <td>27890.4591031788</td>\n",
       "      <td>4000</td>\n",
       "    </tr>\n",
       "    <tr>\n",
       "      <th>5</th>\n",
       "      <td>37851.4437564662</td>\n",
       "      <td>5000</td>\n",
       "    </tr>\n",
       "    <tr>\n",
       "      <th>6</th>\n",
       "      <td>47414.0039218502</td>\n",
       "      <td>6000</td>\n",
       "    </tr>\n",
       "    <tr>\n",
       "      <th>7</th>\n",
       "      <td>55781.2533780885</td>\n",
       "      <td>7000</td>\n",
       "    </tr>\n",
       "    <tr>\n",
       "      <th>8</th>\n",
       "      <td>62156.3059037704</td>\n",
       "      <td>8000</td>\n",
       "    </tr>\n",
       "    <tr>\n",
       "      <th>9</th>\n",
       "      <td>65742.2752773917</td>\n",
       "      <td>9000</td>\n",
       "    </tr>\n",
       "    <tr>\n",
       "      <th>10</th>\n",
       "      <td>69328.2446510129</td>\n",
       "      <td>10000</td>\n",
       "    </tr>\n",
       "  </tbody>\n",
       "</table>\n",
       "</div>"
      ],
      "text/plain": [
       "            Total MC      q\n",
       "1   3585.82041944134   1000\n",
       "2   9960.76121572743   2000\n",
       "3   18327.9361828930   3000\n",
       "4   27890.4591031788   4000\n",
       "5   37851.4437564662   5000\n",
       "6   47414.0039218502   6000\n",
       "7   55781.2533780885   7000\n",
       "8   62156.3059037704   8000\n",
       "9   65742.2752773917   9000\n",
       "10  69328.2446510129  10000"
      ]
     },
     "execution_count": 125,
     "metadata": {},
     "output_type": "execute_result"
    }
   ],
   "source": [
    "dataset"
   ]
  },
  {
   "cell_type": "code",
   "execution_count": 126,
   "id": "d73ffb3c",
   "metadata": {},
   "outputs": [
    {
     "name": "stderr",
     "output_type": "stream",
     "text": [
      "D:\\Users\\suuser\\anaconda3\\envs\\sama\\lib\\site-packages\\matplotlib\\cbook\\__init__.py:1377: FutureWarning: Support for multi-dimensional indexing (e.g. `obj[:, None]`) is deprecated and will be removed in a future version.  Convert to a numpy array before indexing instead.\n",
      "  x[:, None]\n",
      "D:\\Users\\suuser\\anaconda3\\envs\\sama\\lib\\site-packages\\matplotlib\\axes\\_base.py:237: FutureWarning: Support for multi-dimensional indexing (e.g. `obj[:, None]`) is deprecated and will be removed in a future version.  Convert to a numpy array before indexing instead.\n",
      "  x = x[:, np.newaxis]\n",
      "D:\\Users\\suuser\\anaconda3\\envs\\sama\\lib\\site-packages\\matplotlib\\axes\\_base.py:239: FutureWarning: Support for multi-dimensional indexing (e.g. `obj[:, None]`) is deprecated and will be removed in a future version.  Convert to a numpy array before indexing instead.\n",
      "  y = y[:, np.newaxis]\n"
     ]
    },
    {
     "data": {
      "image/png": "[encoded data removed]",
      "text/plain": [
       "<Figure size 504x504 with 1 Axes>"
      ]
     },
     "metadata": {
      "needs_background": "light"
     },
     "output_type": "display_data"
    }
   ],
   "source": [
    "y = dataset.iloc[0: , 0]\n",
    "x = dataset.q\n",
    "\n",
    "plt.subplots(figsize=(7, 7))\n",
    "plt.title(\" \") \n",
    "plt.xlabel(\"q values\") \n",
    "plt.ylabel(\"Total Cost of Master node at Time t\") \n",
    "plt.plot(x, y, color =\"blue\") \n",
    "plt.show()"
   ]
  },
  {
   "cell_type": "code",
   "execution_count": 127,
   "id": "2b1058a9",
   "metadata": {},
   "outputs": [],
   "source": [
    "#dynamic case\n",
    "#q= Q(1-((a*10)/(20*C)))"
   ]
  },
  {
   "cell_type": "code",
   "execution_count": 128,
   "id": "9922c193",
   "metadata": {},
   "outputs": [
    {
     "data": {
      "text/html": [
       "<div>\n",
       "<style scoped>\n",
       "    .dataframe tbody tr th:only-of-type {\n",
       "        vertical-align: middle;\n",
       "    }\n",
       "\n",
       "    .dataframe tbody tr th {\n",
       "        vertical-align: top;\n",
       "    }\n",
       "\n",
       "    .dataframe thead th {\n",
       "        text-align: right;\n",
       "    }\n",
       "</style>\n",
       "<table border=\"1\" class=\"dataframe\">\n",
       "  <thead>\n",
       "    <tr style=\"text-align: right;\">\n",
       "      <th></th>\n",
       "      <th>Total MC of Dynamic Case</th>\n",
       "      <th>q</th>\n",
       "    </tr>\n",
       "  </thead>\n",
       "  <tbody>\n",
       "    <tr>\n",
       "      <th>1</th>\n",
       "      <td>1000</td>\n",
       "      <td>1000</td>\n",
       "    </tr>\n",
       "    <tr>\n",
       "      <th>2</th>\n",
       "      <td>2000</td>\n",
       "      <td>2000</td>\n",
       "    </tr>\n",
       "    <tr>\n",
       "      <th>3</th>\n",
       "      <td>3000</td>\n",
       "      <td>3000</td>\n",
       "    </tr>\n",
       "    <tr>\n",
       "      <th>4</th>\n",
       "      <td>4000</td>\n",
       "      <td>4000</td>\n",
       "    </tr>\n",
       "    <tr>\n",
       "      <th>5</th>\n",
       "      <td>5000</td>\n",
       "      <td>5000</td>\n",
       "    </tr>\n",
       "    <tr>\n",
       "      <th>6</th>\n",
       "      <td>6000</td>\n",
       "      <td>6000</td>\n",
       "    </tr>\n",
       "    <tr>\n",
       "      <th>7</th>\n",
       "      <td>7000</td>\n",
       "      <td>7000</td>\n",
       "    </tr>\n",
       "    <tr>\n",
       "      <th>8</th>\n",
       "      <td>8000</td>\n",
       "      <td>8000</td>\n",
       "    </tr>\n",
       "    <tr>\n",
       "      <th>9</th>\n",
       "      <td>9000</td>\n",
       "      <td>9000</td>\n",
       "    </tr>\n",
       "    <tr>\n",
       "      <th>10</th>\n",
       "      <td>10000</td>\n",
       "      <td>10000</td>\n",
       "    </tr>\n",
       "  </tbody>\n",
       "</table>\n",
       "</div>"
      ],
      "text/plain": [
       "   Total MC of Dynamic Case      q\n",
       "1                      1000   1000\n",
       "2                      2000   2000\n",
       "3                      3000   3000\n",
       "4                      4000   4000\n",
       "5                      5000   5000\n",
       "6                      6000   6000\n",
       "7                      7000   7000\n",
       "8                      8000   8000\n",
       "9                      9000   9000\n",
       "10                    10000  10000"
      ]
     },
     "execution_count": 128,
     "metadata": {},
     "output_type": "execute_result"
    }
   ],
   "source": [
    "dataset1 = pd.DataFrame(columns = ['Total MC of Dynamic Case','q'])\n",
    "count = 1000\n",
    "row = 1\n",
    "dataset1.loc[row] = count\n",
    "for i in range(1000,10000,1000):       \n",
    "    row = row + 1\n",
    "    count = count + 1000\n",
    "    dataset1.loc[row] = count\n",
    "dataset1"
   ]
  },
  {
   "cell_type": "code",
   "execution_count": 129,
   "id": "abba486b",
   "metadata": {},
   "outputs": [],
   "source": [
    "#Dynamic Case"
   ]
  },
  {
   "cell_type": "code",
   "execution_count": 130,
   "id": "2694a70d",
   "metadata": {},
   "outputs": [
    {
     "data": {
      "image/png": "[encoded data removed]",
      "text/latex": [
       "$\\displaystyle 724.170354691416$"
      ],
      "text/plain": [
       "724.170354691416"
      ]
     },
     "execution_count": 130,
     "metadata": {},
     "output_type": "execute_result"
    }
   ],
   "source": [
    "qd=1000\n",
    "Bd=0.724174115722499 \n",
    "T1d=3.92784145441362\n",
    "T2d=17.0733397114433*𝑞d\n",
    "ed= 0.798062942399659\n",
    "Cd=B*sym.exp((-e)/(T1+T2))\n",
    "R1d=Cd\n",
    "M1d=R1d*qd\n",
    "dataset1.iloc[0,0] = M1d\n",
    "M1d"
   ]
  },
  {
   "cell_type": "code",
   "execution_count": 131,
   "id": "e78a1cbb",
   "metadata": {},
   "outputs": [
    {
     "data": {
      "image/png": "[encoded data removed]",
      "text/latex": [
       "$\\displaystyle 2172.51106407425$"
      ],
      "text/plain": [
       "2172.51106407425"
      ]
     },
     "execution_count": 131,
     "metadata": {},
     "output_type": "execute_result"
    }
   ],
   "source": [
    "qd=2000\n",
    "Bd=0.724174115722499 \n",
    "T1d=3.92784145441362\n",
    "T2d=17.0733397114433*𝑞d\n",
    "ed= 0.798062942399659\n",
    "Cd=B*sym.exp((-e)/(T1+T2))\n",
    "R2d=Cd\n",
    "M2d=R2d*qd+M1d\n",
    "dataset1.iloc[1,0] = M2d\n",
    "M2d"
   ]
  },
  {
   "cell_type": "code",
   "execution_count": 132,
   "id": "d21a0134",
   "metadata": {},
   "outputs": [
    {
     "data": {
      "image/png": "[encoded data removed]",
      "text/latex": [
       "$\\displaystyle 4345.0221281485$"
      ],
      "text/plain": [
       "4345.02212814850"
      ]
     },
     "execution_count": 132,
     "metadata": {},
     "output_type": "execute_result"
    }
   ],
   "source": [
    "qd=3000\n",
    "Bd=0.724174115722499 \n",
    "T1d=3.92784145441362\n",
    "T2d=17.0733397114433*𝑞d\n",
    "ed= 0.798062942399659\n",
    "Cd=B*sym.exp((-e)/(T1+T2))\n",
    "R3d=Cd\n",
    "M3d=R3d*qd+M2d\n",
    "dataset1.iloc[2,0] = M3d\n",
    "M3d"
   ]
  },
  {
   "cell_type": "code",
   "execution_count": 133,
   "id": "402025ad",
   "metadata": {},
   "outputs": [
    {
     "data": {
      "image/png": "[encoded data removed]",
      "text/latex": [
       "$\\displaystyle 7241.70354691416$"
      ],
      "text/plain": [
       "7241.70354691416"
      ]
     },
     "execution_count": 133,
     "metadata": {},
     "output_type": "execute_result"
    }
   ],
   "source": [
    "qd=4000\n",
    "Bd=0.724174115722499 \n",
    "T1d=3.92784145441362\n",
    "T2d=17.0733397114433*𝑞d\n",
    "ed= 0.798062942399659\n",
    "Cd=B*sym.exp((-e)/(T1+T2))\n",
    "R4d=Cd\n",
    "M4d=R4d*qd+M3d\n",
    "dataset1.iloc[3,0] = M4d\n",
    "M4d"
   ]
  },
  {
   "cell_type": "code",
   "execution_count": 134,
   "id": "de5f2092",
   "metadata": {},
   "outputs": [
    {
     "data": {
      "image/png": "[encoded data removed]",
      "text/latex": [
       "$\\displaystyle 10862.5553203712$"
      ],
      "text/plain": [
       "10862.5553203712"
      ]
     },
     "execution_count": 134,
     "metadata": {},
     "output_type": "execute_result"
    }
   ],
   "source": [
    "qd=5000\n",
    "Bd=0.724174115722499 \n",
    "T1d=3.92784145441362\n",
    "T2d=17.0733397114433*𝑞d\n",
    "ed= 0.798062942399659\n",
    "Cd=B*sym.exp((-e)/(T1+T2))\n",
    "R5d=Cd\n",
    "M5d=R5d*qd+M4d\n",
    "dataset1.iloc[4,0] = M5d\n",
    "M5d"
   ]
  },
  {
   "cell_type": "code",
   "execution_count": 135,
   "id": "89f5e988",
   "metadata": {},
   "outputs": [
    {
     "data": {
      "image/png": "[encoded data removed]",
      "text/latex": [
       "$\\displaystyle 15207.5774485197$"
      ],
      "text/plain": [
       "15207.5774485197"
      ]
     },
     "execution_count": 135,
     "metadata": {},
     "output_type": "execute_result"
    }
   ],
   "source": [
    "qd=6000\n",
    "Bd=0.724174115722499 \n",
    "T1d=3.92784145441362\n",
    "T2d=17.0733397114433*𝑞d\n",
    "ed= 0.798062942399659\n",
    "Cd=B*sym.exp((-e)/(T1+T2))\n",
    "R6d=Cd\n",
    "M6d=R6d*qd+M5d\n",
    "dataset1.iloc[5,0] = M6d\n",
    "M6d"
   ]
  },
  {
   "cell_type": "code",
   "execution_count": 136,
   "id": "2bd98d07",
   "metadata": {},
   "outputs": [
    {
     "data": {
      "image/png": "[encoded data removed]",
      "text/latex": [
       "$\\displaystyle 20276.7699313597$"
      ],
      "text/plain": [
       "20276.7699313597"
      ]
     },
     "execution_count": 136,
     "metadata": {},
     "output_type": "execute_result"
    }
   ],
   "source": [
    "qd=7000\n",
    "Bd=0.724174115722499 \n",
    "T1d=3.92784145441362\n",
    "T2d=17.0733397114433*𝑞d\n",
    "ed= 0.798062942399659\n",
    "Cd=B*sym.exp((-e)/(T1+T2))\n",
    "R7d=Cd\n",
    "M7d=R7d*qd+M6d\n",
    "dataset1.iloc[6,0] = M7d\n",
    "M7d"
   ]
  },
  {
   "cell_type": "code",
   "execution_count": 137,
   "id": "a13b8769",
   "metadata": {},
   "outputs": [
    {
     "data": {
      "image/png": "[encoded data removed]",
      "text/latex": [
       "$\\displaystyle 26070.132768891$"
      ],
      "text/plain": [
       "26070.1327688910"
      ]
     },
     "execution_count": 137,
     "metadata": {},
     "output_type": "execute_result"
    }
   ],
   "source": [
    "qd=8000\n",
    "Bd=0.724174115722499 \n",
    "T1d=3.92784145441362\n",
    "T2d=17.0733397114433*𝑞d\n",
    "ed= 0.798062942399659\n",
    "Cd=B*sym.exp((-e)/(T1+T2))\n",
    "R8d=Cd\n",
    "M8d=R8d*qd+M7d\n",
    "dataset1.iloc[7,0] = M8d\n",
    "M8d"
   ]
  },
  {
   "cell_type": "code",
   "execution_count": 138,
   "id": "d8e9cc17",
   "metadata": {},
   "outputs": [
    {
     "data": {
      "image/png": "[encoded data removed]",
      "text/latex": [
       "$\\displaystyle 32587.6659611137$"
      ],
      "text/plain": [
       "32587.6659611137"
      ]
     },
     "execution_count": 138,
     "metadata": {},
     "output_type": "execute_result"
    }
   ],
   "source": [
    "qd=9000\n",
    "Bd=0.724174115722499 \n",
    "T1d=3.92784145441362\n",
    "T2d=17.0733397114433*𝑞d\n",
    "ed= 0.798062942399659\n",
    "Cd=B*sym.exp((-e)/(T1+T2))\n",
    "R9d=Cd\n",
    "M9d=R9d*qd+M8d\n",
    "dataset1.iloc[8,0] = M9d\n",
    "M9d"
   ]
  },
  {
   "cell_type": "code",
   "execution_count": 139,
   "id": "4947727a",
   "metadata": {},
   "outputs": [
    {
     "data": {
      "image/png": "[encoded data removed]",
      "text/latex": [
       "$\\displaystyle 39829.3695080279$"
      ],
      "text/plain": [
       "39829.3695080279"
      ]
     },
     "execution_count": 139,
     "metadata": {},
     "output_type": "execute_result"
    }
   ],
   "source": [
    "qd=10000\n",
    "Bd=0.724174115722499 \n",
    "T1d=3.92784145441362\n",
    "T2d=17.0733397114433*𝑞d\n",
    "ed= 0.798062942399659\n",
    "Cd=B*sym.exp((-e)/(T1+T2))\n",
    "R10d=Cd\n",
    "M10d=R10d*qd+M9d\n",
    "dataset1.iloc[9,0] = M10d\n",
    "M10d"
   ]
  },
  {
   "cell_type": "code",
   "execution_count": 140,
   "id": "86d1643e",
   "metadata": {},
   "outputs": [
    {
     "data": {
      "text/html": [
       "<div>\n",
       "<style scoped>\n",
       "    .dataframe tbody tr th:only-of-type {\n",
       "        vertical-align: middle;\n",
       "    }\n",
       "\n",
       "    .dataframe tbody tr th {\n",
       "        vertical-align: top;\n",
       "    }\n",
       "\n",
       "    .dataframe thead th {\n",
       "        text-align: right;\n",
       "    }\n",
       "</style>\n",
       "<table border=\"1\" class=\"dataframe\">\n",
       "  <thead>\n",
       "    <tr style=\"text-align: right;\">\n",
       "      <th></th>\n",
       "      <th>Total MC of Dynamic Case</th>\n",
       "      <th>q</th>\n",
       "    </tr>\n",
       "  </thead>\n",
       "  <tbody>\n",
       "    <tr>\n",
       "      <th>1</th>\n",
       "      <td>724.170354691416</td>\n",
       "      <td>1000</td>\n",
       "    </tr>\n",
       "    <tr>\n",
       "      <th>2</th>\n",
       "      <td>2172.51106407425</td>\n",
       "      <td>2000</td>\n",
       "    </tr>\n",
       "    <tr>\n",
       "      <th>3</th>\n",
       "      <td>4345.02212814850</td>\n",
       "      <td>3000</td>\n",
       "    </tr>\n",
       "    <tr>\n",
       "      <th>4</th>\n",
       "      <td>7241.70354691416</td>\n",
       "      <td>4000</td>\n",
       "    </tr>\n",
       "    <tr>\n",
       "      <th>5</th>\n",
       "      <td>10862.5553203712</td>\n",
       "      <td>5000</td>\n",
       "    </tr>\n",
       "    <tr>\n",
       "      <th>6</th>\n",
       "      <td>15207.5774485197</td>\n",
       "      <td>6000</td>\n",
       "    </tr>\n",
       "    <tr>\n",
       "      <th>7</th>\n",
       "      <td>20276.7699313597</td>\n",
       "      <td>7000</td>\n",
       "    </tr>\n",
       "    <tr>\n",
       "      <th>8</th>\n",
       "      <td>26070.1327688910</td>\n",
       "      <td>8000</td>\n",
       "    </tr>\n",
       "    <tr>\n",
       "      <th>9</th>\n",
       "      <td>32587.6659611137</td>\n",
       "      <td>9000</td>\n",
       "    </tr>\n",
       "    <tr>\n",
       "      <th>10</th>\n",
       "      <td>39829.3695080279</td>\n",
       "      <td>10000</td>\n",
       "    </tr>\n",
       "  </tbody>\n",
       "</table>\n",
       "</div>"
      ],
      "text/plain": [
       "   Total MC of Dynamic Case      q\n",
       "1          724.170354691416   1000\n",
       "2          2172.51106407425   2000\n",
       "3          4345.02212814850   3000\n",
       "4          7241.70354691416   4000\n",
       "5          10862.5553203712   5000\n",
       "6          15207.5774485197   6000\n",
       "7          20276.7699313597   7000\n",
       "8          26070.1327688910   8000\n",
       "9          32587.6659611137   9000\n",
       "10         39829.3695080279  10000"
      ]
     },
     "execution_count": 140,
     "metadata": {},
     "output_type": "execute_result"
    }
   ],
   "source": [
    "dataset1"
   ]
  },
  {
   "cell_type": "code",
   "execution_count": 141,
   "id": "662dfef9",
   "metadata": {},
   "outputs": [
    {
     "name": "stderr",
     "output_type": "stream",
     "text": [
      "D:\\Users\\suuser\\anaconda3\\envs\\sama\\lib\\site-packages\\matplotlib\\cbook\\__init__.py:1377: FutureWarning: Support for multi-dimensional indexing (e.g. `obj[:, None]`) is deprecated and will be removed in a future version.  Convert to a numpy array before indexing instead.\n",
      "  x[:, None]\n",
      "D:\\Users\\suuser\\anaconda3\\envs\\sama\\lib\\site-packages\\matplotlib\\axes\\_base.py:237: FutureWarning: Support for multi-dimensional indexing (e.g. `obj[:, None]`) is deprecated and will be removed in a future version.  Convert to a numpy array before indexing instead.\n",
      "  x = x[:, np.newaxis]\n",
      "D:\\Users\\suuser\\anaconda3\\envs\\sama\\lib\\site-packages\\matplotlib\\axes\\_base.py:239: FutureWarning: Support for multi-dimensional indexing (e.g. `obj[:, None]`) is deprecated and will be removed in a future version.  Convert to a numpy array before indexing instead.\n",
      "  y = y[:, np.newaxis]\n"
     ]
    },
    {
     "data": {
      "image/png": "[encoded data removed]",
      "text/plain": [
       "<Figure size 504x504 with 1 Axes>"
      ]
     },
     "metadata": {
      "needs_background": "light"
     },
     "output_type": "display_data"
    }
   ],
   "source": [
    "y = dataset.iloc[0: , 0]\n",
    "x = dataset.q\n",
    "\n",
    "plt.subplots(figsize=(7, 7))\n",
    "plt.title(\" \") \n",
    "plt.xlabel(\"q values\") \n",
    "plt.ylabel(\"Total Cost of Master node at Time t\") \n",
    "plt.plot(x, y, color =\"orange\") \n",
    "plt.show()"
   ]
  },
  {
   "cell_type": "code",
   "execution_count": 142,
   "id": "9fb57616",
   "metadata": {},
   "outputs": [
    {
     "data": {
      "image/png": "[encoded data removed]",
      "text/plain": [
       "<Figure size 504x504 with 1 Axes>"
      ]
     },
     "metadata": {
      "needs_background": "light"
     },
     "output_type": "display_data"
    }
   ],
   "source": [
    "x = dataset.q\n",
    "y1 = dataset.iloc[0: , 0]\n",
    "y2 = dataset1.iloc[0: , 0]\n",
    "\n",
    "plt.subplots(figsize=(7, 7))\n",
    "plt.title(\"Blue for Static Case -  Orange for Dynamic Case\") \n",
    "plt.xlabel(\"q\") \n",
    "plt.ylabel(\"Total Cost of Master Node\") \n",
    "plt.plot(x, y1) \n",
    "plt.plot(x, y2) \n",
    "plt.show()"
   ]
  },
  {
   "cell_type": "code",
   "execution_count": null,
   "id": "a02201f5",
   "metadata": {},
   "outputs": [],
   "source": []
  },
  {
   "cell_type": "code",
   "execution_count": null,
   "id": "069aa350",
   "metadata": {},
   "outputs": [],
   "source": []
  },
  {
   "cell_type": "code",
   "execution_count": null,
   "id": "636e2fdd",
   "metadata": {},
   "outputs": [],
   "source": []
  },
  {
   "cell_type": "code",
   "execution_count": null,
   "id": "319da78c",
   "metadata": {},
   "outputs": [],
   "source": []
  },
  {
   "cell_type": "code",
   "execution_count": null,
   "id": "ec2617b7",
   "metadata": {},
   "outputs": [],
   "source": []
  },
  {
   "cell_type": "code",
   "execution_count": null,
   "id": "d8506ef0",
   "metadata": {},
   "outputs": [],
   "source": []
  }
 ],
 "metadata": {
  "kernelspec": {
   "display_name": "Python 3 (ipykernel)",
   "language": "python",
   "name": "python3"
  },
  "language_info": {
   "codemirror_mode": {
    "name": "ipython",
    "version": 3
   },
   "file_extension": ".py",
   "mimetype": "text/x-python",
   "name": "python",
   "nbconvert_exporter": "python",
   "pygments_lexer": "ipython3",
   "version": "3.7.6"
  }
 },
 "nbformat": 4,
 "nbformat_minor": 5
}
